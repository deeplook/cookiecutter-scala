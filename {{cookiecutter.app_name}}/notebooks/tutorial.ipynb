{
 "cells": [
  {
   "cell_type": "markdown",
   "metadata": {},
   "source": [
    "# Using {{cookiecutter.app_name}} inside a Jupyter Notebook (running an Apache Toree kernel)"
   ]
  },
  {
   "cell_type": "markdown",
   "metadata": {},
   "source": [
    "## Preface\n",
    "\n",
    "Minor things to improve the user experience... (use `%LsMagic` to list all *magic* commands!)"
   ]
  },
  {
   "cell_type": "code",
   "execution_count": null,
   "metadata": {},
   "outputs": [
    {
     "name": "stdout",
     "output_type": "stream",
     "text": [
      "Types will be printed.\n"
     ]
    }
   ],
   "source": [
    "%ShowTypes on"
   ]
  },
  {
   "cell_type": "markdown",
   "metadata": {},
   "source": [
    "## Main functionality\n",
    "\n",
    "First we load our package generated with `sbt package` as a jar file. This will have a path something like `/path/to/{{cookiecutter.app_slug}}/target/scala-X.Y/{{cookiecutter.app_slug}}_X.Y-{{cookiecutter.app_version}}.jar` and must be indicated as absolute file path:"
   ]
  },
  {
   "cell_type": "code",
   "execution_count": null,
   "metadata": {
    "collapsed": true
   },
   "outputs": [],
   "source": [
    "import java.io.File\n",
    "val targetPath: String = new File(\"../target\").getCanonicalPath\n",
    "targetPath"
   ]
  },
  {
   "cell_type": "markdown",
   "metadata": {},
   "source": [
    "Expand the absolute path for the `%AddJar` magic command in the following cell to something like this (see also the prefix in the cell above): file:///path/to/{{cookiecutter.app_name}}/target/scala-2.12/{{cookiecutter.app_name}}_2.12-0.1.0.jar"
   ]
  },
  {
   "cell_type": "code",
   "execution_count": null,
   "metadata": {
    "collapsed": true
   },
   "outputs": [],
   "source": [
    "%AddJar file:///.../{{cookiecutter.app_name}}/target/scala-2.12/{{cookiecutter.app_name}}_2.12-0.1.0.jar -f"
   ]
  },
  {
   "cell_type": "markdown",
   "metadata": {},
   "source": [
    "And now you can use the functionality inside the jar file:"
   ]
  },
  {
   "cell_type": "code",
   "execution_count": null,
   "metadata": {
    "collapsed": true
   },
   "outputs": [],
   "source": [
    "import org.cookiecutter.scala.hello.Main"
   ]
  },
  {
   "cell_type": "code",
   "execution_count": null,
   "metadata": {
    "collapsed": true
   },
   "outputs": [],
   "source": [
    "Main.main(Array())"
   ]
  },
  {
   "cell_type": "markdown",
   "metadata": {
    "tags": [
     "protobuf"
    ]
   },
   "source": [
    "## Protobuf"
   ]
  },
  {
   "cell_type": "markdown",
   "metadata": {},
   "source": [
    "Using the Protobuf functionality seems to require loading the respective jar file or the library:"
   ]
  },
  {
   "cell_type": "code",
   "execution_count": null,
   "metadata": {
    "collapsed": true
   },
   "outputs": [],
   "source": [
    "import person.Person"
   ]
  },
  {
   "cell_type": "code",
   "execution_count": null,
   "metadata": {
    "collapsed": true
   },
   "outputs": [],
   "source": [
    "val p = Person(name=Some(\"Joe\"))"
   ]
  },
  {
   "cell_type": "markdown",
   "metadata": {
    "collapsed": true,
    "tags": [
     "json4s"
    ]
   },
   "source": [
    "## Json4S\n",
    "\n",
    "Not sure where this is pulled from, maybe from `~/.ivy2/cache/`?"
   ]
  },
  {
   "cell_type": "code",
   "execution_count": null,
   "metadata": {
    "collapsed": true
   },
   "outputs": [],
   "source": [
    "import org.json4s._\n",
    "import org.json4s.jackson.JsonMethods._"
   ]
  },
  {
   "cell_type": "code",
   "execution_count": null,
   "metadata": {
    "collapsed": true
   },
   "outputs": [],
   "source": [
    "val obj = parse(\"\"\" { \"numbers\" : [1, 2, 3, 4] } \"\"\")\n",
    "val exp = JObject(List((\"numbers\", JArray(List(JInt(1), JInt(2), JInt(3), JInt(4))))))\n",
    "assert(obj == exp)"
   ]
  }
 ],
 "metadata": {
  "anaconda-cloud": {},
  "kernelspec": {
   "display_name": "Apache Toree - Scala",
   "language": "scala",
   "name": "apache_toree_scala"
  },
  "language_info": {
   "file_extension": ".scala",
   "name": "scala",
   "version": "2.11.8"
  }
 },
 "nbformat": 4,
 "nbformat_minor": 2
}
