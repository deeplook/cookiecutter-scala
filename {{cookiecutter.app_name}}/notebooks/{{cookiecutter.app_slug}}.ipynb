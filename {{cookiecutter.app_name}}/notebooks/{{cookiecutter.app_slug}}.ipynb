{
 "cells": [
  {
   "cell_type": "markdown",
   "metadata": {},
   "source": [
    "# Using {{cookiecutter.app_name}} inside a Jupyter Notebook (running an Apache Toree kernel)"
   ]
  },
  {
   "cell_type": "markdown",
   "metadata": {},
   "source": [
    "## Main functionality\n",
    "\n",
    "First we load our package generated with `sbt package` as a jar file. This will have a path something like `/path/to/{{cookiecutter.app_slug}}/target/scala-X.Y/{{cookiecutter.app_slug}}_X.Y-{{cookiecutter.app_version}}.jar` and must be indicated as absolute file path:"
   ]
  },
  {
   "cell_type": "code",
   "execution_count": 14,
   "metadata": {},
   "outputs": [
    {
     "data": {
      "text/plain": [
       "/Users/gherman/repos/github/deeplook/cookiecutter-scala/{{cookiecutter.app_name}}/target"
      ]
     },
     "execution_count": 14,
     "metadata": {},
     "output_type": "execute_result"
    }
   ],
   "source": [
    "import java.io.File\n",
    "val targetPath: String = new File(\"../target\").getCanonicalPath\n",
    "targetPath"
   ]
  },
  {
   "cell_type": "code",
   "execution_count": 2,
   "metadata": {},
   "outputs": [
    {
     "name": "stdout",
     "output_type": "stream",
     "text": [
      "Starting download from file:///Users/gherman/snippets/test_cookiecutter/hello/target/scala-2.12/hello_2.12-0.1.0.jar\n",
      "Finished download of hello_2.12-0.1.0.jar\n"
     ]
    }
   ],
   "source": [
    "%AddJar file:///Users/gherman/snippets/test_cookiecutter/hello/target/scala-2.12/hello_2.12-0.1.0.jar -f"
   ]
  },
  {
   "cell_type": "markdown",
   "metadata": {},
   "source": [
    "And now we can use the functionality inside:"
   ]
  },
  {
   "cell_type": "code",
   "execution_count": 3,
   "metadata": {
    "collapsed": true
   },
   "outputs": [],
   "source": [
    "import org.cookiecutter.scala.hello.Main"
   ]
  },
  {
   "cell_type": "code",
   "execution_count": 4,
   "metadata": {},
   "outputs": [
    {
     "name": "stdout",
     "output_type": "stream",
     "text": [
      "Hello World\n"
     ]
    }
   ],
   "source": [
    "Main.main(Array())"
   ]
  },
  {
   "cell_type": "markdown",
   "metadata": {},
   "source": [
    "## Protobuf"
   ]
  },
  {
   "cell_type": "markdown",
   "metadata": {},
   "source": [
    "Using the Protobuf functionality seems to require loading the respective Jar file or the library:"
   ]
  },
  {
   "cell_type": "code",
   "execution_count": 5,
   "metadata": {
    "collapsed": true
   },
   "outputs": [],
   "source": [
    "import person.Person"
   ]
  },
  {
   "cell_type": "code",
   "execution_count": 6,
   "metadata": {},
   "outputs": [
    {
     "data": {
      "text/plain": [
       "Name: Compile Error\n",
       "Message: error: missing or invalid dependency detected while loading class file 'Person.class'.\n",
       "Could not access term trueaccord in package com,\n",
       "because it (or its dependencies) are missing. Check your build definition for\n",
       "missing or conflicting dependencies. (Re-run with `-Ylog-classpath` to see the problematic classpath.)\n",
       "A full rebuild may help if 'Person.class' was compiled against an incompatible version of com.\n",
       "error: missing or invalid dependency detected while loading class file 'Person.class'.\n",
       "Could not access type GeneratedMessageCompanion in value com.scalapb,\n",
       "because it (or its dependencies) are missing. Check your build definition for\n",
       "missing or conflicting dependencies. (Re-run with `-Ylog-classpath` to see the problematic classpath.)\n",
       "A full rebuild may help if 'Person.class' was compiled against an incompatible version of com.scalapb.\n",
       "StackTrace: "
      ]
     },
     "execution_count": 6,
     "metadata": {},
     "output_type": "execute_result"
    }
   ],
   "source": [
    "val p = Person(name=Some(\"Joe\"))"
   ]
  },
  {
   "cell_type": "markdown",
   "metadata": {
    "collapsed": true
   },
   "source": [
    "## Json4S\n",
    "\n",
    "Not sure where this is pulled from, maybe from `~/.ivy2/cache/`?"
   ]
  },
  {
   "cell_type": "code",
   "execution_count": 7,
   "metadata": {
    "collapsed": true
   },
   "outputs": [],
   "source": [
    "import org.json4s._\n",
    "import org.json4s.jackson.JsonMethods._"
   ]
  },
  {
   "cell_type": "code",
   "execution_count": 8,
   "metadata": {
    "collapsed": true
   },
   "outputs": [],
   "source": [
    "val obj = parse(\"\"\" { \"numbers\" : [1, 2, 3, 4] } \"\"\")\n",
    "val exp = JObject(List((\"numbers\", JArray(List(JInt(1), JInt(2), JInt(3), JInt(4))))))\n",
    "assert(obj == exp)"
   ]
  }
 ],
 "metadata": {
  "anaconda-cloud": {},
  "kernelspec": {
   "display_name": "Apache Toree - Scala",
   "language": "scala",
   "name": "apache_toree_scala"
  },
  "language_info": {
   "file_extension": ".scala",
   "name": "scala",
   "version": "2.11.8"
  }
 },
 "nbformat": 4,
 "nbformat_minor": 2
}
